{
  "cells": [
    {
      "cell_type": "markdown",
      "metadata": {
        "id": "view-in-github",
        "colab_type": "text"
      },
      "source": [
        "<a href=\"https://colab.research.google.com/github/divyaah/ci_gender_age_detection/blob/main/A1_4_CNN.ipynb\" target=\"_parent\"><img src=\"https://colab.research.google.com/assets/colab-badge.svg\" alt=\"Open In Colab\"/></a>"
      ]
    },
    {
      "cell_type": "code",
      "execution_count": 1,
      "metadata": {
        "id": "YWHktk-Q4cQh"
      },
      "outputs": [],
      "source": [
        "from tensorflow import keras\n",
        "from tensorflow.keras import utils\n",
        "from keras.datasets import mnist\n",
        "from keras.models import Sequential\n",
        "from keras.layers import Dense, Dropout, Flatten\n",
        "from keras.layers import Conv2D, MaxPooling2D\n",
        "from keras import backend as K\n",
        "from keras import optimizers\n"
      ]
    },
    {
      "cell_type": "code",
      "execution_count": 2,
      "metadata": {
        "colab": {
          "base_uri": "https://localhost:8080/"
        },
        "id": "pbrFvLvH6HVP",
        "outputId": "7f6dec12-5bd2-44fe-f38d-3574fc7eafd9"
      },
      "outputs": [
        {
          "output_type": "stream",
          "name": "stdout",
          "text": [
            "Downloading data from https://storage.googleapis.com/tensorflow/tf-keras-datasets/mnist.npz\n",
            "11493376/11490434 [==============================] - 0s 0us/step\n",
            "11501568/11490434 [==============================] - 0s 0us/step\n"
          ]
        }
      ],
      "source": [
        "batch_size = 128\n",
        "num_classes = 10\n",
        "epochs = 100\n",
        "\n",
        "# input image dimensions\n",
        "img_rows, img_cols = 28, 28\n",
        "\n",
        "# the data, split between train and test sets\n",
        "(x_train, y_train), (x_test, y_test) = mnist.load_data()\n",
        "\n",
        "if K.image_data_format() == 'channels_first':\n",
        "  #https://machinelearningmastery.com/a-gentle-introduction-to-channels-first-and-channels-last-image-formats-for-deep-learning/ to know about image_data_format and what is \"channelS_first\"\n",
        "    x_train = x_train.reshape(x_train.shape[0], 1, img_rows, img_cols)\n",
        "    x_test = x_test.reshape(x_test.shape[0], 1, img_rows, img_cols)\n",
        "    input_shape = (1, img_rows, img_cols)\n",
        "else:\n",
        "    x_train = x_train.reshape(x_train.shape[0], img_rows, img_cols, 1)\n",
        "    x_test = x_test.reshape(x_test.shape[0], img_rows, img_cols, 1)\n",
        "    input_shape = (img_rows, img_cols, 1)"
      ]
    },
    {
      "cell_type": "code",
      "execution_count": 3,
      "metadata": {
        "colab": {
          "base_uri": "https://localhost:8080/"
        },
        "id": "5NQA3EAM70Pn",
        "outputId": "18609e54-0f16-46f5-929a-9eb1796fa2fe"
      },
      "outputs": [
        {
          "output_type": "stream",
          "name": "stdout",
          "text": [
            "x_train shape: (60000, 28, 28, 1)\n",
            "60000 train samples\n",
            "10000 test samples\n"
          ]
        }
      ],
      "source": [
        "x_train = x_train.astype('float32')\n",
        "x_test = x_test.astype('float32')\n",
        "x_train /= 255 #normalizing\n",
        "x_test /= 255 #normalizing\n",
        "print('x_train shape:', x_train.shape)\n",
        "print(x_train.shape[0], 'train samples')\n",
        "print(x_test.shape[0], 'test samples')\n",
        "\n",
        "# convert class vectors to binary class matrices\n",
        "y_train = keras.utils.to_categorical(y_train, num_classes)\n",
        "y_test = keras.utils.to_categorical(y_test, num_classes)\n"
      ]
    },
    {
      "cell_type": "code",
      "execution_count": 4,
      "metadata": {
        "id": "3ZJlrw_4k3_H"
      },
      "outputs": [],
      "source": [
        "%matplotlib inline\n",
        "import matplotlib.pyplot as plt\n",
        "import numpy as np\n",
        "import time\n",
        "# https://gist.github.com/greydanus/f6eee59eaf1d90fcb3b534a25362cea4\n",
        "# https://stackoverflow.com/a/14434334\n",
        "# this function is used to update the plots for each epoch and error\n",
        "def plt_dynamic(x, vy, ty, ax, colors=['b']):\n",
        "  ax.plot(x, vy, 'b', label=\"Validation Loss\")\n",
        "  ax.plot(x, ty, 'r', label=\"Train Loss\")\n",
        "  plt.legend()\n",
        "  plt.grid()\n",
        "  fig.canvas.draw()\n"
      ]
    },
    {
      "cell_type": "markdown",
      "metadata": {
        "id": "oabbKHho--0S"
      },
      "source": [
        "<h3>Category 1: Kernel_size (3,3) without adding dropout and batch normalization </h3> "
      ]
    },
    {
      "cell_type": "markdown",
      "metadata": {
        "id": "7d95pPDi_bti"
      },
      "source": [
        "2 Hidden Layers"
      ]
    },
    {
      "cell_type": "code",
      "execution_count": 5,
      "metadata": {
        "colab": {
          "base_uri": "https://localhost:8080/"
        },
        "id": "AnF6xaGn_TgU",
        "outputId": "d1ba3113-76da-44fa-e3cf-de0aefa30022"
      },
      "outputs": [
        {
          "output_type": "stream",
          "name": "stdout",
          "text": [
            "Model: \"sequential\"\n",
            "_________________________________________________________________\n",
            " Layer (type)                Output Shape              Param #   \n",
            "=================================================================\n",
            " conv2d (Conv2D)             (None, 26, 26, 32)        320       \n",
            "                                                                 \n",
            " conv2d_1 (Conv2D)           (None, 24, 24, 128)       36992     \n",
            "                                                                 \n",
            " conv2d_2 (Conv2D)           (None, 22, 22, 64)        73792     \n",
            "                                                                 \n",
            " flatten (Flatten)           (None, 30976)             0         \n",
            "                                                                 \n",
            " dense (Dense)               (None, 10)                309770    \n",
            "                                                                 \n",
            "=================================================================\n",
            "Total params: 420,874\n",
            "Trainable params: 420,874\n",
            "Non-trainable params: 0\n",
            "_________________________________________________________________\n"
          ]
        }
      ],
      "source": [
        "model = Sequential()\n",
        "model.add(Conv2D(32, kernel_size=(3, 3),\n",
        "                 activation='relu',\n",
        "                 input_shape=input_shape))\n",
        "model.add(Conv2D(128, (3, 3), activation='relu'))\n",
        "model.add(Conv2D(64, (3, 3), activation='relu'))\n",
        "#model.add(Conv2D(32, (3, 3), activation='relu'))\n",
        "model.add(Flatten())\n",
        "model.add(Dense(num_classes, activation='softmax'))\n",
        "\n",
        "model.summary()"
      ]
    },
    {
      "cell_type": "code",
      "execution_count": 6,
      "metadata": {
        "colab": {
          "base_uri": "https://localhost:8080/"
        },
        "id": "rPw3DRhzAi1y",
        "outputId": "f29e5998-ba34-456d-a20a-460feeeef635"
      },
      "outputs": [
        {
          "output_type": "stream",
          "name": "stdout",
          "text": [
            "Epoch 1/10\n",
            "469/469 [==============================] - 28s 35ms/step - loss: 2.2672 - accuracy: 0.2558 - val_loss: 2.2180 - val_accuracy: 0.4143\n",
            "Epoch 2/10\n",
            "469/469 [==============================] - 16s 33ms/step - loss: 2.1084 - accuracy: 0.5343 - val_loss: 1.9195 - val_accuracy: 0.6695\n",
            "Epoch 3/10\n",
            "469/469 [==============================] - 16s 33ms/step - loss: 1.4902 - accuracy: 0.7340 - val_loss: 0.9744 - val_accuracy: 0.7941\n",
            "Epoch 4/10\n",
            "469/469 [==============================] - 16s 33ms/step - loss: 0.7546 - accuracy: 0.8099 - val_loss: 0.5860 - val_accuracy: 0.8415\n",
            "Epoch 5/10\n",
            "469/469 [==============================] - 16s 33ms/step - loss: 0.5561 - accuracy: 0.8423 - val_loss: 0.4906 - val_accuracy: 0.8613\n",
            "Epoch 6/10\n",
            "469/469 [==============================] - 16s 34ms/step - loss: 0.4910 - accuracy: 0.8592 - val_loss: 0.4479 - val_accuracy: 0.8735\n",
            "Epoch 7/10\n",
            "469/469 [==============================] - 16s 33ms/step - loss: 0.4566 - accuracy: 0.8683 - val_loss: 0.4219 - val_accuracy: 0.8798\n",
            "Epoch 8/10\n",
            "469/469 [==============================] - 16s 34ms/step - loss: 0.4336 - accuracy: 0.8744 - val_loss: 0.4038 - val_accuracy: 0.8850\n",
            "Epoch 9/10\n",
            "469/469 [==============================] - 16s 34ms/step - loss: 0.4167 - accuracy: 0.8805 - val_loss: 0.3901 - val_accuracy: 0.8888\n",
            "Epoch 10/10\n",
            "469/469 [==============================] - 16s 34ms/step - loss: 0.4035 - accuracy: 0.8843 - val_loss: 0.3784 - val_accuracy: 0.8915\n",
            "Test loss: 0.37835338711738586\n",
            "Test accuracy: 0.8914999961853027\n"
          ]
        }
      ],
      "source": [
        "model.compile(loss=keras.losses.categorical_crossentropy,\n",
        "              optimizer=keras.optimizers.Adadelta(),\n",
        "              metrics=['accuracy'])\n",
        "\n",
        "history = model.fit(x_train, y_train,\n",
        "          batch_size=batch_size,\n",
        "          epochs=epochs,\n",
        "          verbose=1,\n",
        "          validation_data=(x_test, y_test))\n",
        "score = model.evaluate(x_test, y_test, verbose=0)\n",
        "print('Test loss:', score[0])\n",
        "print('Test accuracy:', score[1])"
      ]
    },
    {
      "cell_type": "code",
      "execution_count": 7,
      "metadata": {
        "colab": {
          "base_uri": "https://localhost:8080/",
          "height": 315
        },
        "id": "6UvnquJ-ilvB",
        "outputId": "1473475a-41b7-4eff-d509-b8fe84920c1d"
      },
      "outputs": [
        {
          "output_type": "stream",
          "name": "stdout",
          "text": [
            "Test score: 0.37835338711738586\n",
            "Test accuracy: 0.8914999961853027\n"
          ]
        },
        {
          "output_type": "display_data",
          "data": {
            "text/plain": [
              "<Figure size 432x288 with 1 Axes>"
            ],
            "image/png": "[encoded data removed]"
          },
          "metadata": {
            "needs_background": "light"
          }
        }
      ],
      "source": [
        "import matplotlib.pyplot as plt\n",
        "%matplotlib inline\n",
        "score = model.evaluate(x_test, y_test, verbose=0)\n",
        "print('Test score:', score[0])\n",
        "print('Test accuracy:', score[1])\n",
        "fig,ax = plt.subplots(1,1)\n",
        "ax.set_xlabel('epoch') ; ax.set_ylabel('Categorical Crossentropy Loss')\n",
        "# list of epoch numbers\n",
        "x = list(range(1,epochs+1))\n",
        "# print(history.history.keys())\n",
        "# dict_keys(['val_loss', 'val_acc', 'loss', 'acc'])\n",
        "# history = model_drop.fit(X_train, Y_train, batch_size=batch_size, epochs=nb_epoch, verbose=1, validation_data=(X_test, Y_test))\n",
        "# we will get val_loss and val_acc only when you pass the paramter validation_data\n",
        "# val_loss : validation loss\n",
        "# val_acc : validation accuracy\n",
        "# loss : training loss\n",
        "# acc : train accuracy\n",
        "# for each key in histrory.histrory we will have a list of length equal to number of epochs\n",
        "vy = history.history['val_loss']\n",
        "ty = history.history['loss']\n",
        "plt_dynamic(x, vy, ty, ax)"
      ]
    },
    {
      "cell_type": "markdown",
      "metadata": {
        "id": "5J-8ANLh5526"
      },
      "source": [
        "# 3 Hidden Layers"
      ]
    },
    {
      "cell_type": "code",
      "execution_count": 8,
      "metadata": {
        "colab": {
          "base_uri": "https://localhost:8080/"
        },
        "id": "Ea0zNht-i5Nk",
        "outputId": "8a00b5bb-289e-43c8-dfff-8b58a682a024"
      },
      "outputs": [
        {
          "output_type": "stream",
          "name": "stdout",
          "text": [
            "Model: \"sequential_1\"\n",
            "_________________________________________________________________\n",
            " Layer (type)                Output Shape              Param #   \n",
            "=================================================================\n",
            " conv2d_3 (Conv2D)           (None, 26, 26, 32)        320       \n",
            "                                                                 \n",
            " conv2d_4 (Conv2D)           (None, 24, 24, 128)       36992     \n",
            "                                                                 \n",
            " conv2d_5 (Conv2D)           (None, 22, 22, 64)        73792     \n",
            "                                                                 \n",
            " conv2d_6 (Conv2D)           (None, 20, 20, 32)        18464     \n",
            "                                                                 \n",
            " flatten_1 (Flatten)         (None, 12800)             0         \n",
            "                                                                 \n",
            " dense_1 (Dense)             (None, 10)                128010    \n",
            "                                                                 \n",
            "=================================================================\n",
            "Total params: 257,578\n",
            "Trainable params: 257,578\n",
            "Non-trainable params: 0\n",
            "_________________________________________________________________\n"
          ]
        }
      ],
      "source": [
        "model = Sequential()\n",
        "model.add(Conv2D(32, kernel_size=(3, 3),\n",
        "                 activation='relu',\n",
        "                 input_shape=input_shape))\n",
        "model.add(Conv2D(128, (3, 3), activation='relu'))\n",
        "model.add(Conv2D(64, (3, 3), activation='relu'))\n",
        "model.add(Conv2D(32, (3, 3), activation='relu'))\n",
        "model.add(Flatten())\n",
        "model.add(Dense(num_classes, activation='softmax'))\n",
        "\n",
        "model.summary()"
      ]
    },
    {
      "cell_type": "code",
      "execution_count": 9,
      "metadata": {
        "colab": {
          "base_uri": "https://localhost:8080/"
        },
        "id": "Hc6iz1WO6Ijg",
        "outputId": "c7cd07aa-c685-432c-f098-bb1855727348"
      },
      "outputs": [
        {
          "output_type": "stream",
          "name": "stdout",
          "text": [
            "Epoch 1/10\n",
            "469/469 [==============================] - 19s 39ms/step - loss: 0.1528 - accuracy: 0.9542 - val_loss: 0.0466 - val_accuracy: 0.9852\n",
            "Epoch 2/10\n",
            "469/469 [==============================] - 18s 38ms/step - loss: 0.0478 - accuracy: 0.9855 - val_loss: 0.0353 - val_accuracy: 0.9880\n",
            "Epoch 3/10\n",
            "469/469 [==============================] - 18s 38ms/step - loss: 0.0331 - accuracy: 0.9894 - val_loss: 0.0395 - val_accuracy: 0.9866\n",
            "Epoch 4/10\n",
            "469/469 [==============================] - 18s 38ms/step - loss: 0.0242 - accuracy: 0.9921 - val_loss: 0.0334 - val_accuracy: 0.9892\n",
            "Epoch 5/10\n",
            "469/469 [==============================] - 18s 38ms/step - loss: 0.0173 - accuracy: 0.9945 - val_loss: 0.0351 - val_accuracy: 0.9898\n",
            "Epoch 6/10\n",
            "469/469 [==============================] - 18s 38ms/step - loss: 0.0147 - accuracy: 0.9950 - val_loss: 0.0463 - val_accuracy: 0.9859\n",
            "Epoch 7/10\n",
            "469/469 [==============================] - 18s 38ms/step - loss: 0.0114 - accuracy: 0.9961 - val_loss: 0.0511 - val_accuracy: 0.9864\n",
            "Epoch 8/10\n",
            "469/469 [==============================] - 18s 38ms/step - loss: 0.0106 - accuracy: 0.9964 - val_loss: 0.0385 - val_accuracy: 0.9891\n",
            "Epoch 9/10\n",
            "469/469 [==============================] - 18s 38ms/step - loss: 0.0084 - accuracy: 0.9971 - val_loss: 0.0423 - val_accuracy: 0.9904\n",
            "Epoch 10/10\n",
            "469/469 [==============================] - 18s 37ms/step - loss: 0.0068 - accuracy: 0.9978 - val_loss: 0.0395 - val_accuracy: 0.9891\n",
            "Test loss: 0.039502378553152084\n",
            "Test accuracy: 0.9890999794006348\n"
          ]
        }
      ],
      "source": [
        "model.compile(loss=keras.losses.categorical_crossentropy,\n",
        "              optimizer=keras.optimizers.Adam(),\n",
        "              metrics=['accuracy'])\n",
        "\n",
        "history = model.fit(x_train, y_train,\n",
        "          batch_size=batch_size,\n",
        "          epochs=epochs,\n",
        "          verbose=1,\n",
        "          validation_data=(x_test, y_test))\n",
        "score = model.evaluate(x_test, y_test, verbose=0)\n",
        "print('Test loss:', score[0])\n",
        "print('Test accuracy:', score[1])"
      ]
    },
    {
      "cell_type": "code",
      "execution_count": 10,
      "metadata": {
        "colab": {
          "base_uri": "https://localhost:8080/",
          "height": 319
        },
        "id": "hGaPVvICMewf",
        "outputId": "c0457494-a2ad-4965-beb8-939e31f9c3d7"
      },
      "outputs": [
        {
          "output_type": "stream",
          "name": "stdout",
          "text": [
            "Test score: 0.039502378553152084\n",
            "Test accuracy: 0.9890999794006348\n"
          ]
        },
        {
          "output_type": "display_data",
          "data": {
            "text/plain": [
              "<Figure size 432x288 with 1 Axes>"
            ],
            "image/png": "[encoded data removed]"
          },
          "metadata": {
            "needs_background": "light"
          }
        }
      ],
      "source": [
        "import matplotlib.pyplot as plt\n",
        "%matplotlib inline\n",
        "score = model.evaluate(x_test, y_test, verbose=0)\n",
        "print('Test score:', score[0])\n",
        "print('Test accuracy:', score[1])\n",
        "fig,ax = plt.subplots(1,1)\n",
        "ax.set_xlabel('epoch') ; ax.set_ylabel('Categorical Crossentropy Loss')\n",
        "# list of epoch numbers\n",
        "x = list(range(1,epochs+1))\n",
        "# print(history.history.keys())\n",
        "# dict_keys(['val_loss', 'val_acc', 'loss', 'acc'])\n",
        "# history = model_drop.fit(X_train, Y_train, batch_size=batch_size, epochs=nb_epoch, verbose=1, validation_data=(X_test, Y_test))\n",
        "# we will get val_loss and val_acc only when you pass the paramter validation_data\n",
        "# val_loss : validation loss\n",
        "# val_acc : validation accuracy\n",
        "# loss : training loss\n",
        "# acc : train accuracy\n",
        "# for each key in histrory.histrory we will have a list of length equal to number of epochs\n",
        "vy = history.history['val_loss']\n",
        "ty = history.history['loss']\n",
        "plt_dynamic(x, vy, ty, ax)"
      ]
    },
    {
      "cell_type": "markdown",
      "metadata": {
        "id": "qpRyA9JPMnuH"
      },
      "source": [
        "<h3>Category 2: Kernel_size (5,5) , max_pooling with adding dropout and batch normalization </h3> "
      ]
    },
    {
      "cell_type": "markdown",
      "metadata": {
        "id": "4tnWkvnZMwnd"
      },
      "source": [
        "2Hidden Layer"
      ]
    },
    {
      "cell_type": "code",
      "execution_count": 11,
      "metadata": {
        "colab": {
          "base_uri": "https://localhost:8080/"
        },
        "id": "UaWgpEabMsxw",
        "outputId": "04fb31c9-b89c-4d05-a26c-da6d13436f19"
      },
      "outputs": [
        {
          "output_type": "stream",
          "name": "stdout",
          "text": [
            "Model: \"sequential_2\"\n",
            "_________________________________________________________________\n",
            " Layer (type)                Output Shape              Param #   \n",
            "=================================================================\n",
            " conv2d_7 (Conv2D)           (None, 24, 24, 32)        832       \n",
            "                                                                 \n",
            " conv2d_8 (Conv2D)           (None, 20, 20, 64)        51264     \n",
            "                                                                 \n",
            " max_pooling2d (MaxPooling2D  (None, 10, 10, 64)       0         \n",
            " )                                                               \n",
            "                                                                 \n",
            " batch_normalization (BatchN  (None, 10, 10, 64)       256       \n",
            " ormalization)                                                   \n",
            "                                                                 \n",
            " dropout (Dropout)           (None, 10, 10, 64)        0         \n",
            "                                                                 \n",
            " conv2d_9 (Conv2D)           (None, 6, 6, 64)          102464    \n",
            "                                                                 \n",
            " max_pooling2d_1 (MaxPooling  (None, 3, 3, 64)         0         \n",
            " 2D)                                                             \n",
            "                                                                 \n",
            " batch_normalization_1 (Batc  (None, 3, 3, 64)         256       \n",
            " hNormalization)                                                 \n",
            "                                                                 \n",
            " dropout_1 (Dropout)         (None, 3, 3, 64)          0         \n",
            "                                                                 \n",
            " flatten_2 (Flatten)         (None, 576)               0         \n",
            "                                                                 \n",
            " dense_2 (Dense)             (None, 10)                5770      \n",
            "                                                                 \n",
            "=================================================================\n",
            "Total params: 160,842\n",
            "Trainable params: 160,586\n",
            "Non-trainable params: 256\n",
            "_________________________________________________________________\n"
          ]
        }
      ],
      "source": [
        "from tensorflow.keras.layers import BatchNormalization\n",
        "#from keras.layers.normalization import BatchNormalization\n",
        "from keras.layers import Dropout\n",
        "\n",
        "model = Sequential()\n",
        "model.add(Conv2D(32, kernel_size=(5,5),\n",
        "                 activation='relu',\n",
        "                 input_shape=input_shape))\n",
        "model.add(Conv2D(64, (5, 5), activation='relu'))\n",
        "model.add(MaxPooling2D(pool_size=(2, 2)))\n",
        "model.add(BatchNormalization())\n",
        "model.add(Dropout(0.5))\n",
        "\n",
        "model.add(Conv2D(64, (5, 5), activation='relu'))\n",
        "model.add(MaxPooling2D(pool_size=(2, 2)))\n",
        "model.add(BatchNormalization())\n",
        "model.add(Dropout(0.5))\n",
        "\n",
        "model.add(Flatten())\n",
        "model.add(Dense(num_classes, activation='softmax'))\n",
        "\n",
        "model.summary()"
      ]
    },
    {
      "cell_type": "code",
      "execution_count": 12,
      "metadata": {
        "colab": {
          "base_uri": "https://localhost:8080/"
        },
        "id": "hx0gqIHQOGT2",
        "outputId": "5aef2e0b-118e-4caf-cd40-11a33644d012"
      },
      "outputs": [
        {
          "output_type": "stream",
          "name": "stdout",
          "text": [
            "Epoch 1/10\n",
            "469/469 [==============================] - 10s 18ms/step - loss: 3.2237 - accuracy: 0.1546 - val_loss: 2.3689 - val_accuracy: 0.2276\n",
            "Epoch 2/10\n",
            "469/469 [==============================] - 8s 16ms/step - loss: 2.6677 - accuracy: 0.2430 - val_loss: 1.6559 - val_accuracy: 0.4521\n",
            "Epoch 3/10\n",
            "469/469 [==============================] - 8s 17ms/step - loss: 2.2987 - accuracy: 0.3171 - val_loss: 1.3867 - val_accuracy: 0.5333\n",
            "Epoch 4/10\n",
            "469/469 [==============================] - 8s 16ms/step - loss: 2.0111 - accuracy: 0.3845 - val_loss: 1.1991 - val_accuracy: 0.6008\n",
            "Epoch 5/10\n",
            "469/469 [==============================] - 8s 17ms/step - loss: 1.7955 - accuracy: 0.4378 - val_loss: 1.0543 - val_accuracy: 0.6533\n",
            "Epoch 6/10\n",
            "469/469 [==============================] - 8s 17ms/step - loss: 1.6351 - accuracy: 0.4829 - val_loss: 0.9393 - val_accuracy: 0.6971\n",
            "Epoch 7/10\n",
            "469/469 [==============================] - 8s 17ms/step - loss: 1.4940 - accuracy: 0.5209 - val_loss: 0.8459 - val_accuracy: 0.7351\n",
            "Epoch 8/10\n",
            "469/469 [==============================] - 8s 17ms/step - loss: 1.3873 - accuracy: 0.5518 - val_loss: 0.7699 - val_accuracy: 0.7651\n",
            "Epoch 9/10\n",
            "469/469 [==============================] - 8s 17ms/step - loss: 1.2947 - accuracy: 0.5806 - val_loss: 0.7073 - val_accuracy: 0.7878\n",
            "Epoch 10/10\n",
            "469/469 [==============================] - 8s 16ms/step - loss: 1.2108 - accuracy: 0.6062 - val_loss: 0.6527 - val_accuracy: 0.8090\n",
            "Test loss: 0.6526992917060852\n",
            "Test accuracy: 0.8090000152587891\n"
          ]
        }
      ],
      "source": [
        "model.compile(loss=keras.losses.categorical_crossentropy,\n",
        "              optimizer=keras.optimizers.Adadelta(),\n",
        "              metrics=['accuracy'])\n",
        "\n",
        "history = model.fit(x_train, y_train,\n",
        "          batch_size=batch_size,\n",
        "          epochs=epochs,\n",
        "          verbose=1,\n",
        "          validation_data=(x_test, y_test))\n",
        "score = model.evaluate(x_test, y_test, verbose=0)\n",
        "print('Test loss:', score[0])\n",
        "print('Test accuracy:', score[1])"
      ]
    },
    {
      "cell_type": "code",
      "execution_count": 13,
      "metadata": {
        "colab": {
          "base_uri": "https://localhost:8080/",
          "height": 315
        },
        "id": "OWEBDM1sOJFe",
        "outputId": "937e8c5f-0365-468a-c7e6-72d10ade649c"
      },
      "outputs": [
        {
          "output_type": "stream",
          "name": "stdout",
          "text": [
            "Test score: 0.6526992917060852\n",
            "Test accuracy: 0.8090000152587891\n"
          ]
        },
        {
          "output_type": "display_data",
          "data": {
            "text/plain": [
              "<Figure size 432x288 with 1 Axes>"
            ],
            "image/png": "[encoded data removed]"
          },
          "metadata": {
            "needs_background": "light"
          }
        }
      ],
      "source": [
        "import matplotlib.pyplot as plt\n",
        "%matplotlib inline\n",
        "score = model.evaluate(x_test, y_test, verbose=0)\n",
        "print('Test score:', score[0])\n",
        "print('Test accuracy:', score[1])\n",
        "fig,ax = plt.subplots(1,1)\n",
        "ax.set_xlabel('epoch') ; ax.set_ylabel('Categorical Crossentropy Loss')\n",
        "# list of epoch numbers\n",
        "x = list(range(1,epochs+1))\n",
        "# print(history.history.keys())\n",
        "# dict_keys(['val_loss', 'val_acc', 'loss', 'acc'])\n",
        "# history = model_drop.fit(X_train, Y_train, batch_size=batch_size, epochs=nb_epoch, verbose=1, validation_data=(X_test, Y_test))\n",
        "# we will get val_loss and val_acc only when you pass the paramter validation_data\n",
        "# val_loss : validation loss\n",
        "# val_acc : validation accuracy\n",
        "# loss : training loss\n",
        "# acc : train accuracy\n",
        "# for each key in histrory.histrory we will have a list of length equal to number of epochs\n",
        "vy = history.history['val_loss']\n",
        "ty = history.history['loss']\n",
        "plt_dynamic(x, vy, ty, ax)"
      ]
    },
    {
      "cell_type": "markdown",
      "metadata": {
        "id": "auqSsqw0P8kr"
      },
      "source": [
        "<h3>Category 3: Kernel_size (7,7),max_pooling, padding = \"valid\" with adding dropout and batch normalization </h3> "
      ]
    },
    {
      "cell_type": "code",
      "execution_count": 17,
      "metadata": {
        "colab": {
          "base_uri": "https://localhost:8080/"
        },
        "id": "zhkygJgnQCRM",
        "outputId": "dbafe4b9-b180-453b-c3bc-58d4fab8c36e"
      },
      "outputs": [
        {
          "output_type": "stream",
          "name": "stdout",
          "text": [
            "Model: \"sequential_4\"\n",
            "_________________________________________________________________\n",
            " Layer (type)                Output Shape              Param #   \n",
            "=================================================================\n",
            " conv2d_13 (Conv2D)          (None, 22, 22, 32)        1600      \n",
            "                                                                 \n",
            " conv2d_14 (Conv2D)          (None, 16, 16, 128)       200832    \n",
            "                                                                 \n",
            " max_pooling2d_4 (MaxPooling  (None, 8, 8, 128)        0         \n",
            " 2D)                                                             \n",
            "                                                                 \n",
            " batch_normalization_4 (Batc  (None, 8, 8, 128)        512       \n",
            " hNormalization)                                                 \n",
            "                                                                 \n",
            " dropout_4 (Dropout)         (None, 8, 8, 128)         0         \n",
            "                                                                 \n",
            " conv2d_15 (Conv2D)          (None, 2, 2, 64)          401472    \n",
            "                                                                 \n",
            " max_pooling2d_5 (MaxPooling  (None, 1, 1, 64)         0         \n",
            " 2D)                                                             \n",
            "                                                                 \n",
            " batch_normalization_5 (Batc  (None, 1, 1, 64)         256       \n",
            " hNormalization)                                                 \n",
            "                                                                 \n",
            " dropout_5 (Dropout)         (None, 1, 1, 64)          0         \n",
            "                                                                 \n",
            " flatten_4 (Flatten)         (None, 64)                0         \n",
            "                                                                 \n",
            " dense_4 (Dense)             (None, 10)                650       \n",
            "                                                                 \n",
            "=================================================================\n",
            "Total params: 605,322\n",
            "Trainable params: 604,938\n",
            "Non-trainable params: 384\n",
            "_________________________________________________________________\n"
          ]
        }
      ],
      "source": [
        "model = Sequential()\n",
        "model.add(Conv2D(32, kernel_size=(7,7),\n",
        "                 padding='valid',\n",
        "                 activation='relu',\n",
        "                 input_shape=input_shape))\n",
        "model.add(Conv2D(128, (7, 7), activation='relu'))\n",
        "model.add(MaxPooling2D(pool_size=(2, 2)))\n",
        "model.add(BatchNormalization())\n",
        "model.add(Dropout(0.5))\n",
        "\n",
        "model.add(Conv2D(64, (7, 7), activation='relu'))\n",
        "model.add(MaxPooling2D(pool_size=(2, 2)))\n",
        "model.add(BatchNormalization())\n",
        "model.add(Dropout(0.5))\n",
        "\n",
        "model.add(Flatten())\n",
        "model.add(Dense(num_classes, activation='softmax'))\n",
        "\n",
        "model.summary()"
      ]
    },
    {
      "cell_type": "code",
      "execution_count": 18,
      "metadata": {
        "colab": {
          "base_uri": "https://localhost:8080/"
        },
        "id": "jQSXBTyaQPdr",
        "outputId": "5ac6037d-380c-4aa3-9a19-1b527454a12c"
      },
      "outputs": [
        {
          "output_type": "stream",
          "name": "stdout",
          "text": [
            "Epoch 1/10\n",
            "469/469 [==============================] - 11s 22ms/step - loss: 0.1801 - accuracy: 0.9471 - val_loss: 0.0824 - val_accuracy: 0.9857\n",
            "Epoch 2/10\n",
            "469/469 [==============================] - 10s 21ms/step - loss: 0.0651 - accuracy: 0.9816 - val_loss: 0.0263 - val_accuracy: 0.9916\n",
            "Epoch 3/10\n",
            "469/469 [==============================] - 10s 22ms/step - loss: 0.0483 - accuracy: 0.9855 - val_loss: 0.0264 - val_accuracy: 0.9920\n",
            "Epoch 4/10\n",
            "469/469 [==============================] - 10s 22ms/step - loss: 0.0410 - accuracy: 0.9879 - val_loss: 0.0235 - val_accuracy: 0.9924\n",
            "Epoch 5/10\n",
            "469/469 [==============================] - 10s 21ms/step - loss: 0.0360 - accuracy: 0.9893 - val_loss: 0.0218 - val_accuracy: 0.9926\n",
            "Epoch 6/10\n",
            "469/469 [==============================] - 10s 21ms/step - loss: 0.0315 - accuracy: 0.9899 - val_loss: 0.0205 - val_accuracy: 0.9940\n",
            "Epoch 7/10\n",
            "469/469 [==============================] - 10s 22ms/step - loss: 0.0286 - accuracy: 0.9912 - val_loss: 0.0213 - val_accuracy: 0.9938\n",
            "Epoch 8/10\n",
            "469/469 [==============================] - 10s 21ms/step - loss: 0.0272 - accuracy: 0.9917 - val_loss: 0.0198 - val_accuracy: 0.9934\n",
            "Epoch 9/10\n",
            "469/469 [==============================] - 10s 21ms/step - loss: 0.0260 - accuracy: 0.9925 - val_loss: 0.0181 - val_accuracy: 0.9942\n",
            "Epoch 10/10\n",
            "469/469 [==============================] - 10s 21ms/step - loss: 0.0236 - accuracy: 0.9925 - val_loss: 0.0202 - val_accuracy: 0.9938\n",
            "Test loss: 0.02017277292907238\n",
            "Test accuracy: 0.9937999844551086\n"
          ]
        }
      ],
      "source": [
        "model.compile(loss=keras.losses.categorical_crossentropy,\n",
        "              optimizer=keras.optimizers.Adam(),\n",
        "              metrics=['accuracy'])\n",
        "\n",
        "history = model.fit(x_train, y_train,\n",
        "          batch_size=batch_size,\n",
        "          epochs=epochs,\n",
        "          verbose=1,\n",
        "          validation_data=(x_test, y_test))\n",
        "score = model.evaluate(x_test, y_test, verbose=0)\n",
        "print('Test loss:', score[0])\n",
        "print('Test accuracy:', score[1])"
      ]
    },
    {
      "cell_type": "code",
      "execution_count": null,
      "metadata": {
        "colab": {
          "base_uri": "https://localhost:8080/",
          "height": 314
        },
        "id": "opzTRIkuQRH8",
        "outputId": "09ea556d-3ad8-43c0-cbbc-474e50e8a17a"
      },
      "outputs": [
        {
          "output_type": "stream",
          "name": "stdout",
          "text": [
            "Test score: 0.022158145904541016\n",
            "Test accuracy: 0.992900013923645\n"
          ]
        },
        {
          "output_type": "display_data",
          "data": {
            "text/plain": [
              "<Figure size 432x288 with 1 Axes>"
            ],
            "image/png": "[encoded data removed]"
          },
          "metadata": {
            "needs_background": "light"
          }
        }
      ],
      "source": [
        "import matplotlib.pyplot as plt\n",
        "%matplotlib inline\n",
        "score = model.evaluate(x_test, y_test, verbose=0)\n",
        "print('Test score:', score[0])\n",
        "print('Test accuracy:', score[1])\n",
        "fig,ax = plt.subplots(1,1)\n",
        "ax.set_xlabel('epoch') ; ax.set_ylabel('Categorical Crossentropy Loss')\n",
        "# list of epoch numbers\n",
        "x = list(range(1,epochs+1))\n",
        "# print(history.history.keys())\n",
        "# dict_keys(['val_loss', 'val_acc', 'loss', 'acc'])\n",
        "# history = model_drop.fit(X_train, Y_train, batch_size=batch_size, epochs=nb_epoch, verbose=1, validation_data=(X_test, Y_test))\n",
        "# we will get val_loss and val_acc only when you pass the paramter validation_data\n",
        "# val_loss : validation loss\n",
        "# val_acc : validation accuracy\n",
        "# loss : training loss\n",
        "# acc : train accuracy\n",
        "# for each key in histrory.histrory we will have a list of length equal to number of epochs\n",
        "vy = history.history['val_loss']\n",
        "ty = history.history['loss']\n",
        "plt_dynamic(x, vy, ty, ax)"
      ]
    }
  ],
  "metadata": {
    "colab": {
      "collapsed_sections": [],
      "name": "A1.4_CNN.ipynb",
      "provenance": [],
      "include_colab_link": true
    },
    "kernelspec": {
      "display_name": "Python 3",
      "language": "python",
      "name": "python3"
    },
    "language_info": {
      "codemirror_mode": {
        "name": "ipython",
        "version": 3
      },
      "file_extension": ".py",
      "mimetype": "text/x-python",
      "name": "python",
      "nbconvert_exporter": "python",
      "pygments_lexer": "ipython3",
      "version": "3.8.5"
    },
    "accelerator": "GPU"
  },
  "nbformat": 4,
  "nbformat_minor": 0
}